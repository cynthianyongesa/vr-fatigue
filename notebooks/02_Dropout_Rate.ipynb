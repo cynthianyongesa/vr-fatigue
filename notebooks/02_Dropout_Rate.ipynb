{
 "cells": [
  {
   "cell_type": "code",
   "execution_count": 1,
   "id": "9fe4eb74",
   "metadata": {},
   "outputs": [
    {
     "data": {
      "text/plain": [
       "{'Bike Only': '25.00%', 'VR Only': '19.05%', 'VR + Bike Only': '30.00%'}"
      ]
     },
     "execution_count": 1,
     "metadata": {},
     "output_type": "execute_result"
    }
   ],
   "source": [
    "import pandas as pd\n",
    "\n",
    "# Load the CSV file\n",
    "file_path = \"/Users/cynthianyongesa/Desktop/Desktop - Cynthia's Macbook Pro/DATA/6_VR_FATIGUE/DEMOGRAPHICS_NASA.csv\"\n",
    "demographics_data = pd.read_csv(file_path)\n",
    "\n",
    "#Participant Codes:\n",
    "#Dropped out (4)\n",
    "#Completed 16 weeks of Training sessions (3)\n",
    "#Currently completing Acclimation or Training sessions (2)\n",
    "#Completed Baseline, pending acclimation (1)\n",
    "\n",
    "# Function to calculate dropout rate for each group\n",
    "def calculate_dropout_rate(data, group_code):\n",
    "    group_data = data[data['ref_assigned_group'] == group_code]\n",
    "    total = len(group_data)\n",
    "    dropouts = len(group_data[group_data['ref_pt_status'] == 4])  # Status 4 = Dropped out\n",
    "    return (dropouts / total) * 100 if total > 0 else 0\n",
    "\n",
    "# Calculate dropout rates for each group\n",
    "dropout_rate_bike_only = calculate_dropout_rate(demographics_data, 3)       # Bike Only\n",
    "dropout_rate_vr_only = calculate_dropout_rate(demographics_data, 2)         # VR Only\n",
    "dropout_rate_vr_bike = calculate_dropout_rate(demographics_data, 1)         # VR + Bike Only\n",
    "\n",
    "# Compile dropout rates\n",
    "dropout_rates = {\n",
    "    'Bike Only': f\"{dropout_rate_bike_only:.2f}%\",\n",
    "    'VR Only': f\"{dropout_rate_vr_only:.2f}%\",\n",
    "    'VR + Bike Only': f\"{dropout_rate_vr_bike:.2f}%\"\n",
    "}\n",
    "\n",
    "dropout_rates"
   ]
  }
 ],
 "metadata": {
  "kernelspec": {
   "display_name": "Python 3 (ipykernel)",
   "language": "python",
   "name": "python3"
  },
  "language_info": {
   "codemirror_mode": {
    "name": "ipython",
    "version": 3
   },
   "file_extension": ".py",
   "mimetype": "text/x-python",
   "name": "python",
   "nbconvert_exporter": "python",
   "pygments_lexer": "ipython3",
   "version": "3.10.9"
  }
 },
 "nbformat": 4,
 "nbformat_minor": 5
}
