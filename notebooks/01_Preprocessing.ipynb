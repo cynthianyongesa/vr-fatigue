{
 "cells": [
  {
   "cell_type": "markdown",
   "id": "a6589b39",
   "metadata": {},
   "source": [
    "## 📊 Data Preprocessing Script\n",
    "\n",
    "This script cleans and processes experimental data for reproducibility and further analysis. It prepares the NASA TLX, SSC, and RPE datasets for statistical analysis and visualization.\n",
    "\n",
    "## 📌 What this does:\n",
    "\n",
    "- **Loads** the raw Excel file with multiple sheets into DataFrames.\n",
    "- **Cleans** the SSC and RPE datasets by sorting, forward-filling group assignments, and removing unnecessary rows.\n",
    "- **Maps** numeric group codes to descriptive group names.\n",
    "- **Extracts** and converts the 'week' information for proper time-series analysis.\n",
    "- **Exports** the cleaned datasets to separate Excel files for easy access."
   ]
  },
  {
   "cell_type": "code",
   "execution_count": 1,
   "id": "b68f27ea",
   "metadata": {},
   "outputs": [
    {
     "name": "stdout",
     "output_type": "stream",
     "text": [
      "DataFrames have been cleaned and exported successfully.\n"
     ]
    }
   ],
   "source": [
    "# Import essential libraries\n",
    "import pandas as pd\n",
    "import os\n",
    "\n",
    "# Set the base directory path\n",
    "base_dir = \"/Users/cynthianyongesa/Desktop/Desktop - Cynthia's Macbook Pro/DATA/6_VR_FATIGUE\"\n",
    "file_path = os.path.join(base_dir, \"RAW_NASA_DATA_2025-01-10_1335.xls\")\n",
    "\n",
    "# Load the Excel file with multiple sheets\n",
    "excel_data = pd.ExcelFile(file_path)\n",
    "\n",
    "# Load each sheet into a separate DataFrame\n",
    "raw_df = pd.read_excel(file_path, sheet_name='Raw Data')\n",
    "nasa_df = pd.read_excel(file_path, sheet_name='NASA')\n",
    "ssc_df = pd.read_excel(file_path, sheet_name='SSC')\n",
    "rpe_df = pd.read_excel(file_path, sheet_name='RPE')\n",
    "\n",
    "# Define a function to clean the data\n",
    "def clean_dataframe(df):\n",
    "    df = df.copy()  # Avoid SettingWithCopyWarning\n",
    "    df.sort_values(by=['assess_track_record_id', 'redcap_event_name'], inplace=True)\n",
    "    df['ref_assigned_group'] = df.groupby('assess_track_record_id')['ref_assigned_group'].ffill()\n",
    "    group_mapping = {1.0: 'VR + Bike', 2.0: 'VR Only', 3.0: 'Bike Only'}\n",
    "    df['assigned_group'] = df['ref_assigned_group'].map(group_mapping)\n",
    "    df = df[~df['redcap_event_name'].str.startswith('randomization')]\n",
    "    df.loc[:, 'week'] = df['redcap_event_name'].str.extract(r'week_(\\d+)').astype(float)\n",
    "    df = df.dropna(subset=['week'])\n",
    "    df.sort_values(by=['assigned_group', 'assess_track_record_id', 'week'], inplace=True)\n",
    "    return df\n",
    "\n",
    "# Clean SSC and RPE datasets\n",
    "nasa_df = clean_dataframe(nasa_df)\n",
    "ssc_df = clean_dataframe(ssc_df)\n",
    "rpe_df = clean_dataframe(rpe_df)\n",
    "\n",
    "# Export the cleaned DataFrames to separate Excel files\n",
    "nasa_df.to_excel(os.path.join(base_dir, \"CLEANED_NASA_DATA.xlsx\"), index=False)\n",
    "ssc_df.to_excel(os.path.join(base_dir, \"CLEANED_SSC_DATA.xlsx\"), index=False)\n",
    "rpe_df.to_excel(os.path.join(base_dir, \"CLEANED_RPE_DATA.xlsx\"), index=False)\n",
    "\n",
    "print(\"DataFrames have been cleaned and exported successfully.\")"
   ]
  }
 ],
 "metadata": {
  "kernelspec": {
   "display_name": "Python 3 (ipykernel)",
   "language": "python",
   "name": "python3"
  },
  "language_info": {
   "codemirror_mode": {
    "name": "ipython",
    "version": 3
   },
   "file_extension": ".py",
   "mimetype": "text/x-python",
   "name": "python",
   "nbconvert_exporter": "python",
   "pygments_lexer": "ipython3",
   "version": "3.10.9"
  }
 },
 "nbformat": 4,
 "nbformat_minor": 5
}
